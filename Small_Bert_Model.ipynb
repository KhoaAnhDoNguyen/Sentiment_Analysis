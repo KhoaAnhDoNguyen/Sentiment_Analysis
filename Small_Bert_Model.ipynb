{
  "cells": [
    {
      "cell_type": "code",
      "execution_count": null,
      "metadata": {
        "colab": {
          "base_uri": "https://localhost:8080/"
        },
        "id": "12-e2ZSGUk9s",
        "outputId": "c7507ba6-e8b8-4395-c077-21b3a59bd9bf"
      },
      "outputs": [
        {
          "output_type": "stream",
          "name": "stdout",
          "text": [
            "Mounted at /content/drive\n"
          ]
        }
      ],
      "source": [
        "from google.colab import drive\n",
        "drive.mount('/content/drive')"
      ]
    },
    {
      "cell_type": "code",
      "execution_count": null,
      "metadata": {
        "id": "1ugXRZBoXAdx"
      },
      "outputs": [],
      "source": [
        "train_path = \"/content/drive/MyDrive/DataTrain.txt\"\n",
        "test_path = \"/content/drive/MyDrive/DataTest (1).txt\""
      ]
    },
    {
      "cell_type": "code",
      "source": [
        "!pip install tensorflow_text"
      ],
      "metadata": {
        "id": "uCsNP4qAQWhO",
        "colab": {
          "base_uri": "https://localhost:8080/"
        },
        "outputId": "0028d808-b310-44c8-9c7e-7dd7fb001475"
      },
      "execution_count": null,
      "outputs": [
        {
          "output_type": "stream",
          "name": "stdout",
          "text": [
            "Collecting tensorflow_text\n",
            "  Downloading tensorflow_text-2.13.0-cp310-cp310-manylinux_2_17_x86_64.manylinux2014_x86_64.whl (6.5 MB)\n",
            "\u001b[2K     \u001b[90m━━━━━━━━━━━━━━━━━━━━━━━━━━━━━━━━━━━━━━━━\u001b[0m \u001b[32m6.5/6.5 MB\u001b[0m \u001b[31m27.2 MB/s\u001b[0m eta \u001b[36m0:00:00\u001b[0m\n",
            "\u001b[?25hRequirement already satisfied: tensorflow-hub>=0.8.0 in /usr/local/lib/python3.10/dist-packages (from tensorflow_text) (0.14.0)\n",
            "Collecting tensorflow<2.14,>=2.13.0 (from tensorflow_text)\n",
            "  Downloading tensorflow-2.13.0-cp310-cp310-manylinux_2_17_x86_64.manylinux2014_x86_64.whl (524.1 MB)\n",
            "\u001b[2K     \u001b[90m━━━━━━━━━━━━━━━━━━━━━━━━━━━━━━━━━━━━━━━\u001b[0m \u001b[32m524.1/524.1 MB\u001b[0m \u001b[31m2.8 MB/s\u001b[0m eta \u001b[36m0:00:00\u001b[0m\n",
            "\u001b[?25hRequirement already satisfied: absl-py>=1.0.0 in /usr/local/lib/python3.10/dist-packages (from tensorflow<2.14,>=2.13.0->tensorflow_text) (1.4.0)\n",
            "Requirement already satisfied: astunparse>=1.6.0 in /usr/local/lib/python3.10/dist-packages (from tensorflow<2.14,>=2.13.0->tensorflow_text) (1.6.3)\n",
            "Requirement already satisfied: flatbuffers>=23.1.21 in /usr/local/lib/python3.10/dist-packages (from tensorflow<2.14,>=2.13.0->tensorflow_text) (23.5.26)\n",
            "Requirement already satisfied: gast<=0.4.0,>=0.2.1 in /usr/local/lib/python3.10/dist-packages (from tensorflow<2.14,>=2.13.0->tensorflow_text) (0.4.0)\n",
            "Requirement already satisfied: google-pasta>=0.1.1 in /usr/local/lib/python3.10/dist-packages (from tensorflow<2.14,>=2.13.0->tensorflow_text) (0.2.0)\n",
            "Requirement already satisfied: grpcio<2.0,>=1.24.3 in /usr/local/lib/python3.10/dist-packages (from tensorflow<2.14,>=2.13.0->tensorflow_text) (1.56.0)\n",
            "Requirement already satisfied: h5py>=2.9.0 in /usr/local/lib/python3.10/dist-packages (from tensorflow<2.14,>=2.13.0->tensorflow_text) (3.8.0)\n",
            "Collecting keras<2.14,>=2.13.1 (from tensorflow<2.14,>=2.13.0->tensorflow_text)\n",
            "  Downloading keras-2.13.1-py3-none-any.whl (1.7 MB)\n",
            "\u001b[2K     \u001b[90m━━━━━━━━━━━━━━━━━━━━━━━━━━━━━━━━━━━━━━━━\u001b[0m \u001b[32m1.7/1.7 MB\u001b[0m \u001b[31m99.2 MB/s\u001b[0m eta \u001b[36m0:00:00\u001b[0m\n",
            "\u001b[?25hRequirement already satisfied: libclang>=13.0.0 in /usr/local/lib/python3.10/dist-packages (from tensorflow<2.14,>=2.13.0->tensorflow_text) (16.0.0)\n",
            "Requirement already satisfied: numpy<=1.24.3,>=1.22 in /usr/local/lib/python3.10/dist-packages (from tensorflow<2.14,>=2.13.0->tensorflow_text) (1.22.4)\n",
            "Requirement already satisfied: opt-einsum>=2.3.2 in /usr/local/lib/python3.10/dist-packages (from tensorflow<2.14,>=2.13.0->tensorflow_text) (3.3.0)\n",
            "Requirement already satisfied: packaging in /usr/local/lib/python3.10/dist-packages (from tensorflow<2.14,>=2.13.0->tensorflow_text) (23.1)\n",
            "Requirement already satisfied: protobuf!=4.21.0,!=4.21.1,!=4.21.2,!=4.21.3,!=4.21.4,!=4.21.5,<5.0.0dev,>=3.20.3 in /usr/local/lib/python3.10/dist-packages (from tensorflow<2.14,>=2.13.0->tensorflow_text) (3.20.3)\n",
            "Requirement already satisfied: setuptools in /usr/local/lib/python3.10/dist-packages (from tensorflow<2.14,>=2.13.0->tensorflow_text) (67.7.2)\n",
            "Requirement already satisfied: six>=1.12.0 in /usr/local/lib/python3.10/dist-packages (from tensorflow<2.14,>=2.13.0->tensorflow_text) (1.16.0)\n",
            "Collecting tensorboard<2.14,>=2.13 (from tensorflow<2.14,>=2.13.0->tensorflow_text)\n",
            "  Downloading tensorboard-2.13.0-py3-none-any.whl (5.6 MB)\n",
            "\u001b[2K     \u001b[90m━━━━━━━━━━━━━━━━━━━━━━━━━━━━━━━━━━━━━━━━\u001b[0m \u001b[32m5.6/5.6 MB\u001b[0m \u001b[31m88.6 MB/s\u001b[0m eta \u001b[36m0:00:00\u001b[0m\n",
            "\u001b[?25hCollecting tensorflow-estimator<2.14,>=2.13.0 (from tensorflow<2.14,>=2.13.0->tensorflow_text)\n",
            "  Downloading tensorflow_estimator-2.13.0-py2.py3-none-any.whl (440 kB)\n",
            "\u001b[2K     \u001b[90m━━━━━━━━━━━━━━━━━━━━━━━━━━━━━━━━━━━━━━\u001b[0m \u001b[32m440.8/440.8 kB\u001b[0m \u001b[31m41.5 MB/s\u001b[0m eta \u001b[36m0:00:00\u001b[0m\n",
            "\u001b[?25hRequirement already satisfied: termcolor>=1.1.0 in /usr/local/lib/python3.10/dist-packages (from tensorflow<2.14,>=2.13.0->tensorflow_text) (2.3.0)\n",
            "Collecting typing-extensions<4.6.0,>=3.6.6 (from tensorflow<2.14,>=2.13.0->tensorflow_text)\n",
            "  Downloading typing_extensions-4.5.0-py3-none-any.whl (27 kB)\n",
            "Requirement already satisfied: wrapt>=1.11.0 in /usr/local/lib/python3.10/dist-packages (from tensorflow<2.14,>=2.13.0->tensorflow_text) (1.14.1)\n",
            "Requirement already satisfied: tensorflow-io-gcs-filesystem>=0.23.1 in /usr/local/lib/python3.10/dist-packages (from tensorflow<2.14,>=2.13.0->tensorflow_text) (0.32.0)\n",
            "Requirement already satisfied: wheel<1.0,>=0.23.0 in /usr/local/lib/python3.10/dist-packages (from astunparse>=1.6.0->tensorflow<2.14,>=2.13.0->tensorflow_text) (0.40.0)\n",
            "Requirement already satisfied: google-auth<3,>=1.6.3 in /usr/local/lib/python3.10/dist-packages (from tensorboard<2.14,>=2.13->tensorflow<2.14,>=2.13.0->tensorflow_text) (2.17.3)\n",
            "Requirement already satisfied: google-auth-oauthlib<1.1,>=0.5 in /usr/local/lib/python3.10/dist-packages (from tensorboard<2.14,>=2.13->tensorflow<2.14,>=2.13.0->tensorflow_text) (1.0.0)\n",
            "Requirement already satisfied: markdown>=2.6.8 in /usr/local/lib/python3.10/dist-packages (from tensorboard<2.14,>=2.13->tensorflow<2.14,>=2.13.0->tensorflow_text) (3.4.3)\n",
            "Requirement already satisfied: requests<3,>=2.21.0 in /usr/local/lib/python3.10/dist-packages (from tensorboard<2.14,>=2.13->tensorflow<2.14,>=2.13.0->tensorflow_text) (2.27.1)\n",
            "Requirement already satisfied: tensorboard-data-server<0.8.0,>=0.7.0 in /usr/local/lib/python3.10/dist-packages (from tensorboard<2.14,>=2.13->tensorflow<2.14,>=2.13.0->tensorflow_text) (0.7.1)\n",
            "Requirement already satisfied: werkzeug>=1.0.1 in /usr/local/lib/python3.10/dist-packages (from tensorboard<2.14,>=2.13->tensorflow<2.14,>=2.13.0->tensorflow_text) (2.3.6)\n",
            "Requirement already satisfied: cachetools<6.0,>=2.0.0 in /usr/local/lib/python3.10/dist-packages (from google-auth<3,>=1.6.3->tensorboard<2.14,>=2.13->tensorflow<2.14,>=2.13.0->tensorflow_text) (5.3.1)\n",
            "Requirement already satisfied: pyasn1-modules>=0.2.1 in /usr/local/lib/python3.10/dist-packages (from google-auth<3,>=1.6.3->tensorboard<2.14,>=2.13->tensorflow<2.14,>=2.13.0->tensorflow_text) (0.3.0)\n",
            "Requirement already satisfied: rsa<5,>=3.1.4 in /usr/local/lib/python3.10/dist-packages (from google-auth<3,>=1.6.3->tensorboard<2.14,>=2.13->tensorflow<2.14,>=2.13.0->tensorflow_text) (4.9)\n",
            "Requirement already satisfied: requests-oauthlib>=0.7.0 in /usr/local/lib/python3.10/dist-packages (from google-auth-oauthlib<1.1,>=0.5->tensorboard<2.14,>=2.13->tensorflow<2.14,>=2.13.0->tensorflow_text) (1.3.1)\n",
            "Requirement already satisfied: urllib3<1.27,>=1.21.1 in /usr/local/lib/python3.10/dist-packages (from requests<3,>=2.21.0->tensorboard<2.14,>=2.13->tensorflow<2.14,>=2.13.0->tensorflow_text) (1.26.16)\n",
            "Requirement already satisfied: certifi>=2017.4.17 in /usr/local/lib/python3.10/dist-packages (from requests<3,>=2.21.0->tensorboard<2.14,>=2.13->tensorflow<2.14,>=2.13.0->tensorflow_text) (2023.5.7)\n",
            "Requirement already satisfied: charset-normalizer~=2.0.0 in /usr/local/lib/python3.10/dist-packages (from requests<3,>=2.21.0->tensorboard<2.14,>=2.13->tensorflow<2.14,>=2.13.0->tensorflow_text) (2.0.12)\n",
            "Requirement already satisfied: idna<4,>=2.5 in /usr/local/lib/python3.10/dist-packages (from requests<3,>=2.21.0->tensorboard<2.14,>=2.13->tensorflow<2.14,>=2.13.0->tensorflow_text) (3.4)\n",
            "Requirement already satisfied: MarkupSafe>=2.1.1 in /usr/local/lib/python3.10/dist-packages (from werkzeug>=1.0.1->tensorboard<2.14,>=2.13->tensorflow<2.14,>=2.13.0->tensorflow_text) (2.1.3)\n",
            "Requirement already satisfied: pyasn1<0.6.0,>=0.4.6 in /usr/local/lib/python3.10/dist-packages (from pyasn1-modules>=0.2.1->google-auth<3,>=1.6.3->tensorboard<2.14,>=2.13->tensorflow<2.14,>=2.13.0->tensorflow_text) (0.5.0)\n",
            "Requirement already satisfied: oauthlib>=3.0.0 in /usr/local/lib/python3.10/dist-packages (from requests-oauthlib>=0.7.0->google-auth-oauthlib<1.1,>=0.5->tensorboard<2.14,>=2.13->tensorflow<2.14,>=2.13.0->tensorflow_text) (3.2.2)\n",
            "Installing collected packages: typing-extensions, tensorflow-estimator, keras, tensorboard, tensorflow, tensorflow_text\n",
            "  Attempting uninstall: typing-extensions\n",
            "    Found existing installation: typing_extensions 4.7.1\n",
            "    Uninstalling typing_extensions-4.7.1:\n",
            "      Successfully uninstalled typing_extensions-4.7.1\n",
            "  Attempting uninstall: tensorflow-estimator\n",
            "    Found existing installation: tensorflow-estimator 2.12.0\n",
            "    Uninstalling tensorflow-estimator-2.12.0:\n",
            "      Successfully uninstalled tensorflow-estimator-2.12.0\n",
            "  Attempting uninstall: keras\n",
            "    Found existing installation: keras 2.12.0\n",
            "    Uninstalling keras-2.12.0:\n",
            "      Successfully uninstalled keras-2.12.0\n",
            "  Attempting uninstall: tensorboard\n",
            "    Found existing installation: tensorboard 2.12.3\n",
            "    Uninstalling tensorboard-2.12.3:\n",
            "      Successfully uninstalled tensorboard-2.12.3\n",
            "  Attempting uninstall: tensorflow\n",
            "    Found existing installation: tensorflow 2.12.0\n",
            "    Uninstalling tensorflow-2.12.0:\n",
            "      Successfully uninstalled tensorflow-2.12.0\n",
            "Successfully installed keras-2.13.1 tensorboard-2.13.0 tensorflow-2.13.0 tensorflow-estimator-2.13.0 tensorflow_text-2.13.0 typing-extensions-4.5.0\n"
          ]
        }
      ]
    },
    {
      "cell_type": "code",
      "execution_count": null,
      "metadata": {
        "id": "vBIM6CdflmOi"
      },
      "outputs": [],
      "source": [
        "import tensorflow as tf\n",
        "import tensorflow_hub as hub\n",
        "import tensorflow_text as text"
      ]
    },
    {
      "cell_type": "markdown",
      "metadata": {
        "id": "rANavE6CYE9R"
      },
      "source": [
        "**Encoder : 2->Pos    1->Neu   0->Neg**"
      ]
    },
    {
      "cell_type": "code",
      "execution_count": null,
      "metadata": {
        "id": "3SYkDReFXsvr"
      },
      "outputs": [],
      "source": [
        "from gensim.utils import simple_preprocess\n",
        "def labelencoder(text):\n",
        "        if text=='positive':\n",
        "            return 2\n",
        "        elif text == 'negative':\n",
        "            return 0\n",
        "        else:\n",
        "          return 1"
      ]
    },
    {
      "cell_type": "markdown",
      "metadata": {
        "id": "ebux3KPuYHin"
      },
      "source": [
        "**Read Data Train**"
      ]
    },
    {
      "cell_type": "code",
      "execution_count": null,
      "metadata": {
        "id": "4yh1YUTsYNAq"
      },
      "outputs": [],
      "source": [
        "# Hàm đọc file\n",
        "def get_train_data(file_path):\n",
        "  train_text = []\n",
        "  train_label = []\n",
        "  with open(file_path, \"r\", encoding=\"utf-8\") as f:\n",
        "    lines = f.read().splitlines()\n",
        "    for line in lines:\n",
        "      try:\n",
        "        data = line.split(\"\\t\")\n",
        "        train_text.append(' '.join(simple_preprocess(data[1])))\n",
        "        train_label.append(labelencoder(data[0]))\n",
        "      except:\n",
        "        continue\n",
        "\n",
        "  return [train_text, train_label]\n"
      ]
    },
    {
      "cell_type": "markdown",
      "metadata": {
        "id": "AhvJCHINYKpK"
      },
      "source": [
        "**Read Data Test**"
      ]
    },
    {
      "cell_type": "code",
      "execution_count": null,
      "metadata": {
        "id": "Cn-3_OInYNTa"
      },
      "outputs": [],
      "source": [
        "# Hàm đọc file\n",
        "def get_test_data(file_path):\n",
        "  test_text = []\n",
        "  test_label = []\n",
        "  with open(file_path, \"r\", encoding=\"utf-8\") as f:\n",
        "    lines = f.read().splitlines()\n",
        "    for line in lines:\n",
        "      try:\n",
        "        data = line.split(\"\\t\")\n",
        "        test_text.append(' '.join(simple_preprocess(data[1])))\n",
        "        test_label.append(labelencoder(data[0]))\n",
        "      except:\n",
        "        continue\n",
        "\n",
        "  return [test_text, test_label]"
      ]
    },
    {
      "cell_type": "markdown",
      "metadata": {
        "id": "q1EFK0H6Yc_i"
      },
      "source": [
        "**Save Data Train and Test**"
      ]
    },
    {
      "cell_type": "code",
      "execution_count": null,
      "metadata": {
        "colab": {
          "base_uri": "https://localhost:8080/"
        },
        "id": "cz7_ScRrYijR",
        "outputId": "243b3041-cec3-49bd-d7bc-a375c887e58d"
      },
      "outputs": [
        {
          "output_type": "execute_result",
          "data": {
            "text/plain": [
              "100"
            ]
          },
          "metadata": {},
          "execution_count": 8
        }
      ],
      "source": [
        "import numpy as np\n",
        "train_data = get_train_data(train_path)\n",
        "X_train, y_train = train_data[0], train_data[1]\n",
        "\n",
        "test_data = get_test_data(test_path)\n",
        "X_test, y_test = test_data[0], test_data[1]\n",
        "\n",
        "len(y_test)"
      ]
    },
    {
      "cell_type": "markdown",
      "metadata": {
        "id": "9Jt1XtcfZvwt"
      },
      "source": [
        "**Import BERT model**"
      ]
    },
    {
      "cell_type": "code",
      "execution_count": null,
      "metadata": {
        "id": "rXBLq3kWlvK5"
      },
      "outputs": [],
      "source": [
        "Bert_Preprocess = hub.KerasLayer(\"https://tfhub.dev/tensorflow/bert_en_uncased_preprocess/3\")\n",
        "Bert_Encoder = hub.KerasLayer(\"https://tfhub.dev/tensorflow/small_bert/bert_en_uncased_L-8_H-256_A-4/2\")"
      ]
    },
    {
      "cell_type": "markdown",
      "metadata": {
        "id": "0NxS0LJLmRyV"
      },
      "source": [
        "**Get embeding vectors for few sample statements**"
      ]
    },
    {
      "cell_type": "code",
      "execution_count": null,
      "metadata": {
        "colab": {
          "base_uri": "https://localhost:8080/"
        },
        "id": "8bS2vlTwl-TA",
        "outputId": "0dd9d97f-efc1-4040-c19d-f76e47429e9e"
      },
      "outputs": [
        {
          "output_type": "execute_result",
          "data": {
            "text/plain": [
              "TensorShape([256])"
            ]
          },
          "metadata": {},
          "execution_count": 31
        }
      ],
      "source": [
        "def get_sentence_embeding(sentences):\n",
        "    preprocessed_text = Bert_Preprocess(sentences)\n",
        "    return Bert_Encoder(preprocessed_text)['pooled_output']\n",
        "\n",
        "a = get_sentence_embeding([\n",
        "    \"He's a good teacher\",\n",
        "    \"Đó là một người giáo viên tốt\"]\n",
        ")\n",
        "a[0].shape"
      ]
    },
    {
      "cell_type": "markdown",
      "metadata": {
        "id": "XomDMNIsoFb_"
      },
      "source": [
        "**Build Model**"
      ]
    },
    {
      "cell_type": "code",
      "execution_count": null,
      "metadata": {
        "id": "egIC5M1LoH8j"
      },
      "outputs": [],
      "source": [
        "from keras.models import Sequential\n",
        "# Bert layers\n",
        "text_input = tf.keras.layers.Input(shape=(), dtype=tf.string, name='text')\n",
        "preprocessed_text = Bert_Preprocess(text_input)\n",
        "outputs = Bert_Encoder(preprocessed_text)\n",
        "net = outputs['pooled_output']\n",
        "# Neural network layers\n",
        "l = Sequential()\n",
        "l = tf.keras.layers.Dense(512, activation='relu')(net)\n",
        "l = tf.keras.layers.Dropout(0.1)(net)\n",
        "l = tf.keras.layers.Dense(256, activation='relu')(net)\n",
        "l = tf.keras.layers.Dropout(0.1)(net)\n",
        "l = tf.keras.layers.Dense(128, activation='relu')(net)\n",
        "l = tf.keras.layers.Dropout(0.1)(net)\n",
        "l = tf.keras.layers.Dense(64, activation='relu')(net)\n",
        "l = tf.keras.layers.Dropout(0.1)(net)\n",
        "l = tf.keras.layers.Dense(32, activation='relu')(net)\n",
        "l = tf.keras.layers.Dropout(0.1)(net)\n",
        "l = tf.keras.layers.Dense(16, activation='relu')(net)\n",
        "l = tf.keras.layers.Dropout(0.1)(net)\n",
        "l = tf.keras.layers.Dense(8, activation='relu')(net)\n",
        "l = tf.keras.layers.Dropout(0.1)(net)\n",
        "l = tf.keras.layers.Dense(4, activation='relu')(net)\n",
        "l = tf.keras.layers.Dropout(0.1)(net)\n",
        "l = tf.keras.layers.Dropout(0.1, name=\"dropout\")(net)\n",
        "l = tf.keras.layers.Dense(3, activation='softmax', name=\"output\")(net)\n",
        "\n",
        "# Use inputs and outputs to construct a final model\n",
        "\n",
        "model = tf.keras.Model(inputs=[text_input], outputs = [l])"
      ]
    },
    {
      "cell_type": "code",
      "execution_count": null,
      "metadata": {
        "colab": {
          "base_uri": "https://localhost:8080/"
        },
        "id": "-eXHepRfoadf",
        "outputId": "f42f0cf3-18cb-4302-a022-89000839b5f7"
      },
      "outputs": [
        {
          "output_type": "stream",
          "name": "stdout",
          "text": [
            "Model: \"model_1\"\n",
            "__________________________________________________________________________________________________\n",
            " Layer (type)                Output Shape                 Param #   Connected to                  \n",
            "==================================================================================================\n",
            " text (InputLayer)           [(None,)]                    0         []                            \n",
            "                                                                                                  \n",
            " keras_layer_2 (KerasLayer)  {'input_word_ids': (None,    0         ['text[0][0]']                \n",
            "                             128),                                                                \n",
            "                              'input_type_ids': (None,                                            \n",
            "                             128),                                                                \n",
            "                              'input_mask': (None, 128)                                           \n",
            "                             }                                                                    \n",
            "                                                                                                  \n",
            " keras_layer_3 (KerasLayer)  {'encoder_outputs': [(None   1432960   ['keras_layer_2[0][0]',       \n",
            "                             , 128, 256),                 1          'keras_layer_2[0][1]',       \n",
            "                              (None, 128, 256),                      'keras_layer_2[0][2]']       \n",
            "                              (None, 128, 256),                                                   \n",
            "                              (None, 128, 256),                                                   \n",
            "                              (None, 128, 256),                                                   \n",
            "                              (None, 128, 256),                                                   \n",
            "                              (None, 128, 256),                                                   \n",
            "                              (None, 128, 256)],                                                  \n",
            "                              'sequence_output': (None,                                           \n",
            "                              128, 256),                                                          \n",
            "                              'default': (None, 256),                                             \n",
            "                              'pooled_output': (None, 2                                           \n",
            "                             56)}                                                                 \n",
            "                                                                                                  \n",
            " output (Dense)              (None, 3)                    771       ['keras_layer_3[0][9]']       \n",
            "                                                                                                  \n",
            "==================================================================================================\n",
            "Total params: 14330372 (54.67 MB)\n",
            "Trainable params: 771 (3.01 KB)\n",
            "Non-trainable params: 14329601 (54.66 MB)\n",
            "__________________________________________________________________________________________________\n"
          ]
        }
      ],
      "source": [
        "model.summary()"
      ]
    },
    {
      "cell_type": "code",
      "execution_count": null,
      "metadata": {
        "id": "iz93oYU1omuQ"
      },
      "outputs": [],
      "source": [
        "from tensorflow.keras.optimizers import Adam\n",
        "\n",
        "model.compile(optimizer=Adam(learning_rate=0.0001),\n",
        "              loss='categorical_crossentropy',\n",
        "              metrics=['categorical_accuracy'])"
      ]
    },
    {
      "cell_type": "markdown",
      "metadata": {
        "id": "3r8iqMjMpC_W"
      },
      "source": [
        "**Train The Model**"
      ]
    },
    {
      "cell_type": "code",
      "source": [
        "from tensorflow.keras.utils import to_categorical\n",
        "import numpy as np\n",
        "y_new_train = to_categorical(y_train, num_classes=3)"
      ],
      "metadata": {
        "id": "UAiujZOTXxFH"
      },
      "execution_count": null,
      "outputs": []
    },
    {
      "cell_type": "code",
      "source": [
        "y_train\n",
        "type(y_train)"
      ],
      "metadata": {
        "colab": {
          "base_uri": "https://localhost:8080/"
        },
        "id": "saw-uZAdYtMS",
        "outputId": "a50ebe3c-dfaa-4c3b-c901-d2d0c1d9d13b"
      },
      "execution_count": null,
      "outputs": [
        {
          "output_type": "execute_result",
          "data": {
            "text/plain": [
              "list"
            ]
          },
          "metadata": {},
          "execution_count": 15
        }
      ]
    },
    {
      "cell_type": "code",
      "source": [
        "#y_new_train = y_new_train.astype(int)\n",
        "y_new_train = np.array(y_new_train)\n",
        "type(y_new_train)"
      ],
      "metadata": {
        "colab": {
          "base_uri": "https://localhost:8080/"
        },
        "id": "rSd54X2hYBxK",
        "outputId": "c8671334-3ac5-44ee-c58d-49bae58d010d"
      },
      "execution_count": null,
      "outputs": [
        {
          "output_type": "execute_result",
          "data": {
            "text/plain": [
              "numpy.ndarray"
            ]
          },
          "metadata": {},
          "execution_count": 16
        }
      ]
    },
    {
      "cell_type": "code",
      "source": [
        "y_new_train"
      ],
      "metadata": {
        "colab": {
          "base_uri": "https://localhost:8080/"
        },
        "id": "KJvsV0XqeYls",
        "outputId": "c07df0e8-5e46-446e-dc7e-e380a5378385"
      },
      "execution_count": null,
      "outputs": [
        {
          "output_type": "execute_result",
          "data": {
            "text/plain": [
              "array([[0., 0., 1.],\n",
              "       [1., 0., 0.],\n",
              "       [0., 0., 1.],\n",
              "       ...,\n",
              "       [0., 1., 0.],\n",
              "       [0., 1., 0.],\n",
              "       [1., 0., 0.]], dtype=float32)"
            ]
          },
          "metadata": {},
          "execution_count": 35
        }
      ]
    },
    {
      "cell_type": "code",
      "source": [
        "X_train = [[sentence] for sentence in X_train]\n"
      ],
      "metadata": {
        "id": "uVUkjZpZbZ5Z"
      },
      "execution_count": null,
      "outputs": []
    },
    {
      "cell_type": "code",
      "source": [
        "X_train = np.array(X_train)"
      ],
      "metadata": {
        "id": "A0AaDFYdbwX5"
      },
      "execution_count": null,
      "outputs": []
    },
    {
      "cell_type": "code",
      "source": [
        "X_train"
      ],
      "metadata": {
        "colab": {
          "base_uri": "https://localhost:8080/"
        },
        "id": "ooU0TULqbxe_",
        "outputId": "6a8819c0-34ed-437a-9d66-f9b86173bc81"
      },
      "execution_count": null,
      "outputs": [
        {
          "output_type": "execute_result",
          "data": {
            "text/plain": [
              "array([['tài liệu được bổ sung nhiều và đầy đủ trên moodle'],\n",
              "       ['giảng viên phải nên cho ví dụ cụ thể những phần quan trọng nên nói kỹ có thể lấy ví dụ minh họa tránh việc lập đi lập lại nhiều lần sẽ tạo cảm giác chán cho sinh viên'],\n",
              "       ['bài tập đa dạng cụ thể'],\n",
              "       ...,\n",
              "       ['chiếm điểm bất công so với lớp của giáo viên dạy cùng môn'],\n",
              "       ['cô giáo nhiệt tình giảng bài dễ hiểu'],\n",
              "       ['những thứ này không nên giảng dạy vì không phải cứ học những thứ đó là thành công rất phí thời gian đến lớp']],\n",
              "      dtype='<U446')"
            ]
          },
          "metadata": {},
          "execution_count": 36
        }
      ]
    },
    {
      "cell_type": "code",
      "source": [
        "import pandas as pd\n",
        "data_frame_X = pd.DataFrame(X_train)\n",
        "data_frame_y = pd.DataFrame(y_new_train)"
      ],
      "metadata": {
        "id": "Ls73YExLjIPm"
      },
      "execution_count": null,
      "outputs": []
    },
    {
      "cell_type": "markdown",
      "source": [
        "**Data Frame Info**"
      ],
      "metadata": {
        "id": "OJ7Jq0q0d9ED"
      }
    },
    {
      "cell_type": "code",
      "source": [
        "data_frame_X.info()"
      ],
      "metadata": {
        "colab": {
          "base_uri": "https://localhost:8080/"
        },
        "id": "3HJZB3xGjT7P",
        "outputId": "8bcebc6b-34cd-4bae-ccb1-71066c34dfec"
      },
      "execution_count": null,
      "outputs": [
        {
          "output_type": "stream",
          "name": "stdout",
          "text": [
            "<class 'pandas.core.frame.DataFrame'>\n",
            "RangeIndex: 4999 entries, 0 to 4998\n",
            "Data columns (total 1 columns):\n",
            " #   Column  Non-Null Count  Dtype \n",
            "---  ------  --------------  ----- \n",
            " 0   0       4999 non-null   object\n",
            "dtypes: object(1)\n",
            "memory usage: 39.2+ KB\n"
          ]
        }
      ]
    },
    {
      "cell_type": "code",
      "source": [
        "data_frame_y.info()"
      ],
      "metadata": {
        "colab": {
          "base_uri": "https://localhost:8080/"
        },
        "id": "zvr5UqorjXs7",
        "outputId": "44e1b247-3331-43a2-8c29-2c4a64dfcdad"
      },
      "execution_count": null,
      "outputs": [
        {
          "output_type": "stream",
          "name": "stdout",
          "text": [
            "<class 'pandas.core.frame.DataFrame'>\n",
            "RangeIndex: 4999 entries, 0 to 4998\n",
            "Data columns (total 3 columns):\n",
            " #   Column  Non-Null Count  Dtype  \n",
            "---  ------  --------------  -----  \n",
            " 0   0       4999 non-null   float32\n",
            " 1   1       4999 non-null   float32\n",
            " 2   2       4999 non-null   float32\n",
            "dtypes: float32(3)\n",
            "memory usage: 58.7 KB\n"
          ]
        }
      ]
    },
    {
      "cell_type": "markdown",
      "source": [
        "**Train Model**"
      ],
      "metadata": {
        "id": "2WgoiQEfgO07"
      }
    },
    {
      "cell_type": "code",
      "source": [
        "model.fit(X_train, y_new_train, epochs = 50, validation_split=0.2)"
      ],
      "metadata": {
        "id": "XWQ69GuuWk0h",
        "colab": {
          "base_uri": "https://localhost:8080/"
        },
        "outputId": "297f5d08-576d-4f4d-b1f7-d15fc296b61e"
      },
      "execution_count": null,
      "outputs": [
        {
          "output_type": "stream",
          "name": "stdout",
          "text": [
            "Epoch 1/50\n",
            "125/125 [==============================] - 18s 144ms/step - loss: 0.8073 - categorical_accuracy: 0.6432 - val_loss: 1.0223 - val_categorical_accuracy: 0.5170\n",
            "Epoch 2/50\n",
            "125/125 [==============================] - 20s 162ms/step - loss: 0.8037 - categorical_accuracy: 0.6444 - val_loss: 1.0258 - val_categorical_accuracy: 0.5040\n",
            "Epoch 3/50\n",
            "125/125 [==============================] - 19s 149ms/step - loss: 0.8013 - categorical_accuracy: 0.6437 - val_loss: 1.0236 - val_categorical_accuracy: 0.5080\n",
            "Epoch 4/50\n",
            "125/125 [==============================] - 18s 144ms/step - loss: 0.7984 - categorical_accuracy: 0.6474 - val_loss: 1.0158 - val_categorical_accuracy: 0.5070\n",
            "Epoch 5/50\n",
            "125/125 [==============================] - 19s 150ms/step - loss: 0.7961 - categorical_accuracy: 0.6459 - val_loss: 1.0103 - val_categorical_accuracy: 0.5120\n",
            "Epoch 6/50\n",
            "125/125 [==============================] - 19s 152ms/step - loss: 0.7931 - categorical_accuracy: 0.6509 - val_loss: 1.0081 - val_categorical_accuracy: 0.5150\n",
            "Epoch 7/50\n",
            "125/125 [==============================] - 19s 153ms/step - loss: 0.7907 - categorical_accuracy: 0.6542 - val_loss: 1.0050 - val_categorical_accuracy: 0.5140\n",
            "Epoch 8/50\n",
            "125/125 [==============================] - 20s 163ms/step - loss: 0.7882 - categorical_accuracy: 0.6569 - val_loss: 1.0137 - val_categorical_accuracy: 0.5110\n",
            "Epoch 9/50\n",
            "125/125 [==============================] - 21s 165ms/step - loss: 0.7863 - categorical_accuracy: 0.6547 - val_loss: 1.0143 - val_categorical_accuracy: 0.5150\n",
            "Epoch 10/50\n",
            "125/125 [==============================] - 18s 140ms/step - loss: 0.7841 - categorical_accuracy: 0.6579 - val_loss: 1.0091 - val_categorical_accuracy: 0.5170\n",
            "Epoch 11/50\n",
            "125/125 [==============================] - 20s 163ms/step - loss: 0.7819 - categorical_accuracy: 0.6577 - val_loss: 1.0070 - val_categorical_accuracy: 0.5180\n",
            "Epoch 12/50\n",
            "125/125 [==============================] - 19s 151ms/step - loss: 0.7796 - categorical_accuracy: 0.6617 - val_loss: 1.0004 - val_categorical_accuracy: 0.5150\n",
            "Epoch 13/50\n",
            "125/125 [==============================] - 18s 143ms/step - loss: 0.7779 - categorical_accuracy: 0.6619 - val_loss: 0.9982 - val_categorical_accuracy: 0.5150\n",
            "Epoch 14/50\n",
            "125/125 [==============================] - 19s 150ms/step - loss: 0.7755 - categorical_accuracy: 0.6642 - val_loss: 0.9942 - val_categorical_accuracy: 0.5120\n",
            "Epoch 15/50\n",
            "125/125 [==============================] - 19s 155ms/step - loss: 0.7739 - categorical_accuracy: 0.6644 - val_loss: 0.9957 - val_categorical_accuracy: 0.5140\n",
            "Epoch 16/50\n",
            "125/125 [==============================] - 20s 164ms/step - loss: 0.7715 - categorical_accuracy: 0.6657 - val_loss: 1.0073 - val_categorical_accuracy: 0.5120\n",
            "Epoch 17/50\n",
            "125/125 [==============================] - 20s 161ms/step - loss: 0.7694 - categorical_accuracy: 0.6652 - val_loss: 0.9871 - val_categorical_accuracy: 0.5280\n",
            "Epoch 18/50\n",
            "125/125 [==============================] - 18s 148ms/step - loss: 0.7682 - categorical_accuracy: 0.6674 - val_loss: 0.9762 - val_categorical_accuracy: 0.5290\n",
            "Epoch 19/50\n",
            "125/125 [==============================] - 19s 154ms/step - loss: 0.7668 - categorical_accuracy: 0.6684 - val_loss: 0.9915 - val_categorical_accuracy: 0.5150\n",
            "Epoch 20/50\n",
            "125/125 [==============================] - 19s 150ms/step - loss: 0.7647 - categorical_accuracy: 0.6697 - val_loss: 0.9896 - val_categorical_accuracy: 0.5280\n",
            "Epoch 21/50\n",
            "125/125 [==============================] - 19s 154ms/step - loss: 0.7635 - categorical_accuracy: 0.6684 - val_loss: 0.9824 - val_categorical_accuracy: 0.5280\n",
            "Epoch 22/50\n",
            "125/125 [==============================] - 20s 161ms/step - loss: 0.7620 - categorical_accuracy: 0.6712 - val_loss: 0.9934 - val_categorical_accuracy: 0.5210\n",
            "Epoch 23/50\n",
            "125/125 [==============================] - 20s 161ms/step - loss: 0.7599 - categorical_accuracy: 0.6757 - val_loss: 0.9785 - val_categorical_accuracy: 0.5330\n",
            "Epoch 24/50\n",
            "125/125 [==============================] - 20s 162ms/step - loss: 0.7587 - categorical_accuracy: 0.6739 - val_loss: 0.9768 - val_categorical_accuracy: 0.5360\n",
            "Epoch 25/50\n",
            "125/125 [==============================] - 18s 147ms/step - loss: 0.7575 - categorical_accuracy: 0.6744 - val_loss: 0.9777 - val_categorical_accuracy: 0.5340\n",
            "Epoch 26/50\n",
            "125/125 [==============================] - 19s 153ms/step - loss: 0.7558 - categorical_accuracy: 0.6739 - val_loss: 0.9814 - val_categorical_accuracy: 0.5350\n",
            "Epoch 27/50\n",
            "125/125 [==============================] - 18s 144ms/step - loss: 0.7541 - categorical_accuracy: 0.6732 - val_loss: 0.9751 - val_categorical_accuracy: 0.5390\n",
            "Epoch 28/50\n",
            "125/125 [==============================] - 19s 150ms/step - loss: 0.7529 - categorical_accuracy: 0.6767 - val_loss: 0.9711 - val_categorical_accuracy: 0.5400\n",
            "Epoch 29/50\n",
            "125/125 [==============================] - 20s 162ms/step - loss: 0.7516 - categorical_accuracy: 0.6764 - val_loss: 0.9756 - val_categorical_accuracy: 0.5240\n",
            "Epoch 30/50\n",
            "125/125 [==============================] - 20s 163ms/step - loss: 0.7503 - categorical_accuracy: 0.6777 - val_loss: 0.9652 - val_categorical_accuracy: 0.5460\n",
            "Epoch 31/50\n",
            "125/125 [==============================] - 20s 162ms/step - loss: 0.7491 - categorical_accuracy: 0.6767 - val_loss: 0.9724 - val_categorical_accuracy: 0.5410\n",
            "Epoch 32/50\n",
            "125/125 [==============================] - 20s 160ms/step - loss: 0.7479 - categorical_accuracy: 0.6759 - val_loss: 0.9657 - val_categorical_accuracy: 0.5450\n",
            "Epoch 33/50\n",
            "125/125 [==============================] - 19s 149ms/step - loss: 0.7463 - categorical_accuracy: 0.6787 - val_loss: 0.9730 - val_categorical_accuracy: 0.5370\n",
            "Epoch 34/50\n",
            "125/125 [==============================] - 18s 143ms/step - loss: 0.7448 - categorical_accuracy: 0.6814 - val_loss: 0.9696 - val_categorical_accuracy: 0.5430\n",
            "Epoch 35/50\n",
            "125/125 [==============================] - 20s 157ms/step - loss: 0.7439 - categorical_accuracy: 0.6819 - val_loss: 0.9755 - val_categorical_accuracy: 0.5370\n",
            "Epoch 36/50\n",
            "125/125 [==============================] - 20s 162ms/step - loss: 0.7434 - categorical_accuracy: 0.6777 - val_loss: 0.9754 - val_categorical_accuracy: 0.5420\n",
            "Epoch 37/50\n",
            "125/125 [==============================] - 20s 162ms/step - loss: 0.7421 - categorical_accuracy: 0.6802 - val_loss: 0.9637 - val_categorical_accuracy: 0.5390\n",
            "Epoch 38/50\n",
            "125/125 [==============================] - 20s 163ms/step - loss: 0.7405 - categorical_accuracy: 0.6814 - val_loss: 0.9603 - val_categorical_accuracy: 0.5500\n",
            "Epoch 39/50\n",
            "125/125 [==============================] - 19s 153ms/step - loss: 0.7395 - categorical_accuracy: 0.6817 - val_loss: 0.9637 - val_categorical_accuracy: 0.5430\n",
            "Epoch 40/50\n",
            "125/125 [==============================] - 19s 152ms/step - loss: 0.7383 - categorical_accuracy: 0.6829 - val_loss: 0.9553 - val_categorical_accuracy: 0.5510\n",
            "Epoch 41/50\n",
            "125/125 [==============================] - 18s 143ms/step - loss: 0.7376 - categorical_accuracy: 0.6834 - val_loss: 0.9631 - val_categorical_accuracy: 0.5440\n",
            "Epoch 42/50\n",
            "125/125 [==============================] - 18s 143ms/step - loss: 0.7360 - categorical_accuracy: 0.6842 - val_loss: 0.9566 - val_categorical_accuracy: 0.5470\n",
            "Epoch 43/50\n",
            "125/125 [==============================] - 20s 162ms/step - loss: 0.7351 - categorical_accuracy: 0.6862 - val_loss: 0.9627 - val_categorical_accuracy: 0.5420\n",
            "Epoch 44/50\n",
            "125/125 [==============================] - 20s 162ms/step - loss: 0.7340 - categorical_accuracy: 0.6857 - val_loss: 0.9613 - val_categorical_accuracy: 0.5420\n",
            "Epoch 45/50\n",
            "125/125 [==============================] - 20s 164ms/step - loss: 0.7328 - categorical_accuracy: 0.6852 - val_loss: 0.9655 - val_categorical_accuracy: 0.5410\n",
            "Epoch 46/50\n",
            "125/125 [==============================] - 19s 155ms/step - loss: 0.7322 - categorical_accuracy: 0.6887 - val_loss: 0.9572 - val_categorical_accuracy: 0.5470\n",
            "Epoch 47/50\n",
            "125/125 [==============================] - 19s 154ms/step - loss: 0.7310 - categorical_accuracy: 0.6874 - val_loss: 0.9560 - val_categorical_accuracy: 0.5510\n",
            "Epoch 48/50\n",
            "125/125 [==============================] - 19s 156ms/step - loss: 0.7303 - categorical_accuracy: 0.6902 - val_loss: 0.9565 - val_categorical_accuracy: 0.5490\n",
            "Epoch 49/50\n",
            "125/125 [==============================] - 20s 163ms/step - loss: 0.7288 - categorical_accuracy: 0.6864 - val_loss: 0.9556 - val_categorical_accuracy: 0.5500\n",
            "Epoch 50/50\n",
            "125/125 [==============================] - 20s 162ms/step - loss: 0.7280 - categorical_accuracy: 0.6897 - val_loss: 0.9525 - val_categorical_accuracy: 0.5560\n"
          ]
        },
        {
          "output_type": "execute_result",
          "data": {
            "text/plain": [
              "<keras.src.callbacks.History at 0x7d78342ae980>"
            ]
          },
          "metadata": {},
          "execution_count": 43
        }
      ]
    },
    {
      "cell_type": "code",
      "source": [
        "Test_array = model.predict(X_test)"
      ],
      "metadata": {
        "id": "iUGGVexBP-Ak",
        "colab": {
          "base_uri": "https://localhost:8080/"
        },
        "outputId": "edbf1451-6e64-4ed3-a172-3499dc04c737"
      },
      "execution_count": null,
      "outputs": [
        {
          "output_type": "stream",
          "name": "stdout",
          "text": [
            "4/4 [==============================] - 0s 93ms/step\n"
          ]
        }
      ]
    },
    {
      "cell_type": "code",
      "source": [
        "Test_array[0]"
      ],
      "metadata": {
        "id": "gM3CDxwSaxe7",
        "colab": {
          "base_uri": "https://localhost:8080/"
        },
        "outputId": "6f2d8b7a-e0b2-4669-c344-05f21f72e85c"
      },
      "execution_count": null,
      "outputs": [
        {
          "output_type": "execute_result",
          "data": {
            "text/plain": [
              "array([0.19692282, 0.5355768 , 0.2675003 ], dtype=float32)"
            ]
          },
          "metadata": {},
          "execution_count": 45
        }
      ]
    },
    {
      "cell_type": "code",
      "source": [
        "y_test"
      ],
      "metadata": {
        "id": "MU201PzQgVXq"
      },
      "execution_count": null,
      "outputs": []
    },
    {
      "cell_type": "code",
      "source": [
        "import numpy as np\n",
        "y_predict = []\n",
        "for i in range(0,100):\n",
        "  max_index = np.argmax(Test_array[i])\n",
        "  y_predict.append(max_index)\n",
        "y_predict"
      ],
      "metadata": {
        "id": "7dQEL5BofMaZ"
      },
      "execution_count": null,
      "outputs": []
    },
    {
      "cell_type": "code",
      "source": [
        "count = 0\n",
        "for i in range(100):\n",
        "  if y_test[i] == y_predict[i]:\n",
        "    count += 1\n",
        "print('Xac suat du doan dung: ', (count/100))\n",
        "print('So luong du doan dung: ', count)"
      ],
      "metadata": {
        "colab": {
          "base_uri": "https://localhost:8080/"
        },
        "id": "D7xfJKuMfSic",
        "outputId": "55f02e0b-9413-4c7a-e240-ad9def6aec56"
      },
      "execution_count": null,
      "outputs": [
        {
          "output_type": "stream",
          "name": "stdout",
          "text": [
            "Xac suat du doan dung:  0.71\n",
            "So luong du doan dung:  71\n"
          ]
        }
      ]
    },
    {
      "cell_type": "markdown",
      "source": [
        "**Double Column Chart**"
      ],
      "metadata": {
        "id": "WYBuGpNguTgk"
      }
    },
    {
      "cell_type": "code",
      "source": [
        "import numpy as np\n",
        "import matplotlib.pyplot as plt\n",
        "\n",
        "# Đếm số lượng dự đoán cho mỗi giá trị 0, 1, 2\n",
        "counts_predict = np.bincount(y_predict)\n",
        "counts_test = np.bincount(y_test)\n",
        "\n",
        "# Tạo mảng chỉ số để xác định vị trí cột\n",
        "index = np.arange(3)\n",
        "\n",
        "# Kích thước cột\n",
        "bar_width = 0.2\n",
        "\n",
        "plt.bar(index, counts_predict, bar_width, alpha=0.8, color='b', label='Số lượng dự đoán')\n",
        "plt.bar(index + bar_width, counts_test, bar_width, alpha=0.8, color='g', label='Số lượng test')\n",
        "\n",
        "# Đặt nhãn cho trục x và trục y\n",
        "plt.xlabel('Giá trị')\n",
        "plt.ylabel('Số lượng')\n",
        "plt.title('Biểu đồ cột đôi số lượng dự đoán và số lượng y_test theo giá trị')\n",
        "plt.xticks(index + bar_width/2, ['0', '1', '2'])\n",
        "\n",
        "# Hiển thị chú thích\n",
        "plt.legend()\n",
        "plt.show()\n"
      ],
      "metadata": {
        "colab": {
          "base_uri": "https://localhost:8080/",
          "height": 474
        },
        "id": "e9NyfVkhuc1u",
        "outputId": "6f1644d0-c544-40bb-deda-470115d34c99"
      },
      "execution_count": null,
      "outputs": [
        {
          "output_type": "display_data",
          "data": {
            "text/plain": [
              "<Figure size 640x480 with 1 Axes>"
            ],
            "image/png": "[encoded data removed]"
          },
          "metadata": {}
        }
      ]
    },
    {
      "cell_type": "markdown",
      "source": [
        "**Confusion Matrix**"
      ],
      "metadata": {
        "id": "hwzMJ6fwzjOm"
      }
    },
    {
      "cell_type": "code",
      "source": [
        "import numpy as np\n",
        "import matplotlib.pyplot as plt\n",
        "from sklearn.metrics import confusion_matrix, ConfusionMatrixDisplay\n",
        "\n",
        "\n",
        "# Tính ma trận nhầm lẫn\n",
        "cm = confusion_matrix(y_test, y_predict)\n",
        "\n",
        "# Vẽ biểu đồ ma trận nhầm lẫn\n",
        "disp = ConfusionMatrixDisplay(confusion_matrix=cm, display_labels=['0', '1', '2'])\n",
        "disp.plot(cmap='Blues')\n",
        "\n",
        "plt.title('Ma trận nhầm lẫn')\n",
        "plt.show()\n"
      ],
      "metadata": {
        "colab": {
          "base_uri": "https://localhost:8080/",
          "height": 473
        },
        "id": "pYm2NQPevO-m",
        "outputId": "045cad81-ee96-416f-e246-e843ffaf8230"
      },
      "execution_count": null,
      "outputs": [
        {
          "output_type": "display_data",
          "data": {
            "text/plain": [
              "<Figure size 640x480 with 2 Axes>"
            ],
            "image/png": "[encoded data removed]"
          },
          "metadata": {}
        }
      ]
    },
    {
      "cell_type": "markdown",
      "source": [
        "**F1 MACRO**"
      ],
      "metadata": {
        "id": "HjQFAKiqzgk_"
      }
    },
    {
      "cell_type": "code",
      "source": [
        "import numpy as np\n",
        "from sklearn.metrics import f1_score\n",
        "\n",
        "# Tính F1 Macro\n",
        "f1_macro = f1_score(y_test, y_predict, average='macro')\n",
        "\n",
        "print(\"F1 Macro:\", f1_macro)"
      ],
      "metadata": {
        "colab": {
          "base_uri": "https://localhost:8080/"
        },
        "id": "z3VDpCJnyHbF",
        "outputId": "041643c7-26b3-4569-b14c-53324319305b"
      },
      "execution_count": null,
      "outputs": [
        {
          "output_type": "stream",
          "name": "stdout",
          "text": [
            "F1 Macro: 0.7559125085440875\n"
          ]
        }
      ]
    }
  ],
  "metadata": {
    "colab": {
      "provenance": [],
      "gpuType": "T4",
      "cell_execution_strategy": "setup"
    },
    "kernelspec": {
      "display_name": "Python 3",
      "name": "python3"
    },
    "language_info": {
      "name": "python"
    },
    "accelerator": "GPU"
  },
  "nbformat": 4,
  "nbformat_minor": 0
}